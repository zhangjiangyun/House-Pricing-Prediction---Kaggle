{
 "cells": [
  {
   "cell_type": "markdown",
   "metadata": {},
   "source": [
    "\n",
    "<h1 style=\"font-size:42px; text-align:center; margin-bottom:30px;\"><span style=\"color:RoyalBlue\">Assignment: 2 </span> </h1>\n",
    "<hr>\n",
    "<h3 style=\"font-size:42px; text-align:left; margin-bottom:30px;\"><span style=\"color:LightGrey\">Name:</span> Maxwell Zhang</h3>\n",
    "\n",
    "<h3 style=\"font-size:42px; text-align:left; margin-bottom:30px;\"><span style=\"color:LightGrey\">Email:</span> jiangyun.zhang@duke.edu</h3>\n",
    "\n",
    "\n",
    "\n",
    "\n",
    "\n"
   ]
  },
  {
   "cell_type": "markdown",
   "metadata": {},
   "source": [
    "<br><hr id=\"toc\">\n",
    "\n",
    "### Overview...\n",
    "\n",
    "As you go through the analytic steps, capture the key elements here and use the example table of contents to give the read access to the big idea:\n",
    "1. [Prepare the problem](#prepare)\n",
    "2. [Summarize the dataset](#summarize)\n",
    "3. [Prepare the data](#datarep)\n",
    "4. [Evaluate the model](#modeleval)\n",
    "5. [Improve model accuracy](#improve)\n",
    "6. [Finalize the model](#finalize)\n",
    "\n",
    "\n",
    "This time, however, you'll be in the driver's seat.\n",
    "<br><hr>\n"
   ]
  },
  {
   "cell_type": "markdown",
   "metadata": {},
   "source": [
    "<span id=\"prepare\"></span>\n",
    "# 1. Prepare Problem\n"
   ]
  },
  {
   "cell_type": "code",
   "execution_count": 299,
   "metadata": {
    "collapsed": true
   },
   "outputs": [
    {
     "name": "stdout",
     "output_type": "stream",
     "text": [
      "Print function ready to serve.\n"
     ]
    }
   ],
   "source": [
    "from __future__ import print_function  # Compatability with Python 3\n",
    "print( 'Print function ready to serve.' )"
   ]
  },
  {
   "cell_type": "markdown",
   "metadata": {},
   "source": [
    "## a) Load libraries\n"
   ]
  },
  {
   "cell_type": "code",
   "execution_count": 373,
   "metadata": {
    "collapsed": true
   },
   "outputs": [],
   "source": [
    "# NumPy for numerical computing\n",
    "import numpy as np\n",
    "\n",
    "# Pandas for DataFrames\n",
    "import pandas as pd\n",
    "pd.set_option('display.max_columns', 100)\n",
    "\n",
    "# Matplotlib for visualization\n",
    "from matplotlib import pyplot as plt\n",
    "# display plots in the notebook\n",
    "%matplotlib inline \n",
    "\n",
    "# Seaborn for easier visualization\n",
    "import seaborn as sns"
   ]
  },
  {
   "cell_type": "markdown",
   "metadata": {},
   "source": [
    "## b) Load dataset"
   ]
  },
  {
   "cell_type": "code",
   "execution_count": 374,
   "metadata": {
    "collapsed": true
   },
   "outputs": [],
   "source": [
    "# Load real estate data from CSV\n",
    "df1 =  pd.read_csv('train.csv')\n",
    "df2 = pd.read_csv('test.csv')"
   ]
  },
  {
   "cell_type": "code",
   "execution_count": 375,
   "metadata": {},
   "outputs": [],
   "source": [
    "df2['SalePrice'] = 0"
   ]
  },
  {
   "cell_type": "code",
   "execution_count": 376,
   "metadata": {},
   "outputs": [
    {
     "data": {
      "text/plain": [
       "(1460, 81)"
      ]
     },
     "execution_count": 376,
     "metadata": {},
     "output_type": "execute_result"
    }
   ],
   "source": [
    "df1.shape"
   ]
  },
  {
   "cell_type": "code",
   "execution_count": 377,
   "metadata": {},
   "outputs": [
    {
     "data": {
      "text/plain": [
       "(1459, 81)"
      ]
     },
     "execution_count": 377,
     "metadata": {},
     "output_type": "execute_result"
    }
   ],
   "source": [
    "df2.shape"
   ]
  },
  {
   "cell_type": "code",
   "execution_count": 378,
   "metadata": {},
   "outputs": [],
   "source": [
    "df = pd.concat([df1,df2])"
   ]
  },
  {
   "cell_type": "code",
   "execution_count": 379,
   "metadata": {
    "collapsed": true
   },
   "outputs": [
    {
     "data": {
      "text/plain": [
       "Id                  0\n",
       "MSSubClass          0\n",
       "MSZoning            4\n",
       "LotFrontage       486\n",
       "LotArea             0\n",
       "Street              0\n",
       "Alley            2721\n",
       "LotShape            0\n",
       "LandContour         0\n",
       "Utilities           2\n",
       "LotConfig           0\n",
       "LandSlope           0\n",
       "Neighborhood        0\n",
       "Condition1          0\n",
       "Condition2          0\n",
       "BldgType            0\n",
       "HouseStyle          0\n",
       "OverallQual         0\n",
       "OverallCond         0\n",
       "YearBuilt           0\n",
       "YearRemodAdd        0\n",
       "RoofStyle           0\n",
       "RoofMatl            0\n",
       "Exterior1st         1\n",
       "Exterior2nd         1\n",
       "MasVnrType         24\n",
       "MasVnrArea         23\n",
       "ExterQual           0\n",
       "ExterCond           0\n",
       "Foundation          0\n",
       "                 ... \n",
       "BedroomAbvGr        0\n",
       "KitchenAbvGr        0\n",
       "KitchenQual         1\n",
       "TotRmsAbvGrd        0\n",
       "Functional          2\n",
       "Fireplaces          0\n",
       "FireplaceQu      1420\n",
       "GarageType        157\n",
       "GarageYrBlt       159\n",
       "GarageFinish      159\n",
       "GarageCars          1\n",
       "GarageArea          1\n",
       "GarageQual        159\n",
       "GarageCond        159\n",
       "PavedDrive          0\n",
       "WoodDeckSF          0\n",
       "OpenPorchSF         0\n",
       "EnclosedPorch       0\n",
       "3SsnPorch           0\n",
       "ScreenPorch         0\n",
       "PoolArea            0\n",
       "PoolQC           2909\n",
       "Fence            2348\n",
       "MiscFeature      2814\n",
       "MiscVal             0\n",
       "MoSold              0\n",
       "YrSold              0\n",
       "SaleType            1\n",
       "SaleCondition       0\n",
       "SalePrice           0\n",
       "Length: 81, dtype: int64"
      ]
     },
     "execution_count": 379,
     "metadata": {},
     "output_type": "execute_result"
    }
   ],
   "source": [
    "# Display missing data\n",
    "df.isnull().sum()"
   ]
  },
  {
   "cell_type": "code",
   "execution_count": 390,
   "metadata": {},
   "outputs": [
    {
     "data": {
      "text/plain": [
       "['MSZoning',\n",
       " 'Utilities',\n",
       " 'Exterior1st',\n",
       " 'Exterior2nd',\n",
       " 'MasVnrType',\n",
       " 'BsmtQual',\n",
       " 'BsmtCond',\n",
       " 'BsmtExposure',\n",
       " 'BsmtFinType1',\n",
       " 'BsmtFinType2',\n",
       " 'Electrical',\n",
       " 'BsmtFullBath',\n",
       " 'BsmtHalfBath',\n",
       " 'KitchenQual',\n",
       " 'Functional',\n",
       " 'GarageType',\n",
       " 'GarageFinish',\n",
       " 'GarageCars',\n",
       " 'GarageQual',\n",
       " 'GarageCond',\n",
       " 'SaleType']"
      ]
     },
     "execution_count": 390,
     "metadata": {},
     "output_type": "execute_result"
    }
   ],
   "source": [
    "index = []\n",
    "ind = []\n",
    "for i in range(0,len(list(df))):\n",
    "    if sum(df.iloc[:,i].isnull())>0:\n",
    "        index.append(list(df)[i])\n",
    "        ind.append(i)\n",
    "\n",
    "index"
   ]
  },
  {
   "cell_type": "code",
   "execution_count": 391,
   "metadata": {},
   "outputs": [
    {
     "data": {
      "text/html": [
       "<div>\n",
       "<style>\n",
       "    .dataframe thead tr:only-child th {\n",
       "        text-align: right;\n",
       "    }\n",
       "\n",
       "    .dataframe thead th {\n",
       "        text-align: left;\n",
       "    }\n",
       "\n",
       "    .dataframe tbody tr th {\n",
       "        vertical-align: top;\n",
       "    }\n",
       "</style>\n",
       "<table border=\"1\" class=\"dataframe\">\n",
       "  <thead>\n",
       "    <tr style=\"text-align: right;\">\n",
       "      <th></th>\n",
       "      <th>BsmtFullBath</th>\n",
       "      <th>BsmtHalfBath</th>\n",
       "      <th>GarageCars</th>\n",
       "    </tr>\n",
       "  </thead>\n",
       "  <tbody>\n",
       "    <tr>\n",
       "      <th>count</th>\n",
       "      <td>2917.000000</td>\n",
       "      <td>2917.000000</td>\n",
       "      <td>2918.000000</td>\n",
       "    </tr>\n",
       "    <tr>\n",
       "      <th>mean</th>\n",
       "      <td>0.429894</td>\n",
       "      <td>0.061364</td>\n",
       "      <td>1.766621</td>\n",
       "    </tr>\n",
       "    <tr>\n",
       "      <th>std</th>\n",
       "      <td>0.524736</td>\n",
       "      <td>0.245687</td>\n",
       "      <td>0.761624</td>\n",
       "    </tr>\n",
       "    <tr>\n",
       "      <th>min</th>\n",
       "      <td>0.000000</td>\n",
       "      <td>0.000000</td>\n",
       "      <td>0.000000</td>\n",
       "    </tr>\n",
       "    <tr>\n",
       "      <th>25%</th>\n",
       "      <td>0.000000</td>\n",
       "      <td>0.000000</td>\n",
       "      <td>1.000000</td>\n",
       "    </tr>\n",
       "    <tr>\n",
       "      <th>50%</th>\n",
       "      <td>0.000000</td>\n",
       "      <td>0.000000</td>\n",
       "      <td>2.000000</td>\n",
       "    </tr>\n",
       "    <tr>\n",
       "      <th>75%</th>\n",
       "      <td>1.000000</td>\n",
       "      <td>0.000000</td>\n",
       "      <td>2.000000</td>\n",
       "    </tr>\n",
       "    <tr>\n",
       "      <th>max</th>\n",
       "      <td>3.000000</td>\n",
       "      <td>2.000000</td>\n",
       "      <td>5.000000</td>\n",
       "    </tr>\n",
       "  </tbody>\n",
       "</table>\n",
       "</div>"
      ],
      "text/plain": [
       "       BsmtFullBath  BsmtHalfBath   GarageCars\n",
       "count   2917.000000   2917.000000  2918.000000\n",
       "mean       0.429894      0.061364     1.766621\n",
       "std        0.524736      0.245687     0.761624\n",
       "min        0.000000      0.000000     0.000000\n",
       "25%        0.000000      0.000000     1.000000\n",
       "50%        0.000000      0.000000     2.000000\n",
       "75%        1.000000      0.000000     2.000000\n",
       "max        3.000000      2.000000     5.000000"
      ]
     },
     "execution_count": 391,
     "metadata": {},
     "output_type": "execute_result"
    }
   ],
   "source": [
    "df[index].describe()"
   ]
  },
  {
   "cell_type": "code",
   "execution_count": 392,
   "metadata": {},
   "outputs": [
    {
     "data": {
      "text/plain": [
       "MSZoning          4\n",
       "Utilities         2\n",
       "Exterior1st       1\n",
       "Exterior2nd       1\n",
       "MasVnrType       24\n",
       "BsmtQual         81\n",
       "BsmtCond         82\n",
       "BsmtExposure     82\n",
       "BsmtFinType1     79\n",
       "BsmtFinType2     80\n",
       "Electrical        1\n",
       "BsmtFullBath      2\n",
       "BsmtHalfBath      2\n",
       "KitchenQual       1\n",
       "Functional        2\n",
       "GarageType      157\n",
       "GarageFinish    159\n",
       "GarageCars        1\n",
       "GarageQual      159\n",
       "GarageCond      159\n",
       "SaleType          1\n",
       "dtype: int64"
      ]
     },
     "execution_count": 392,
     "metadata": {},
     "output_type": "execute_result"
    }
   ],
   "source": [
    "df[index].isnull().sum()"
   ]
  },
  {
   "cell_type": "code",
   "execution_count": 383,
   "metadata": {},
   "outputs": [],
   "source": [
    "df = df.drop(['Alley','PoolQC','Fence','MiscFeature','FireplaceQu'],axis = 1)"
   ]
  },
  {
   "cell_type": "markdown",
   "metadata": {},
   "source": [
    "\n",
    "## a) Data Cleaning\n"
   ]
  },
  {
   "cell_type": "code",
   "execution_count": 402,
   "metadata": {},
   "outputs": [],
   "source": [
    "df.MasVnrArea.fillna(df['MasVnrArea'].mean(), inplace=True)\n",
    "df.LotFrontage.fillna(df['LotFrontage'].mean(), inplace=True)\n",
    "df.GarageYrBlt.fillna(df['GarageYrBlt'].mean(), inplace=True)\n",
    "df.BsmtFinSF1.fillna(df['BsmtFinSF1'].mean(), inplace=True)\n",
    "df.BsmtFinSF2.fillna(df['BsmtFinSF2'].mean(), inplace=True)\n",
    "df.BsmtUnfSF.fillna(df['BsmtUnfSF'].mean(), inplace=True)\n",
    "df.TotalBsmtSF.fillna(df['TotalBsmtSF'].mean(), inplace=True)\n",
    "df.GarageArea.fillna(df['GarageArea'].mean(), inplace=True)\n",
    "\n",
    "# Use mode to replace missing value\n",
    "df.GarageCars.fillna(int(df['GarageCars'].mode()), inplace=True)\n",
    "df.BsmtFullBath.fillna(int(df['BsmtFullBath'].mode()), inplace=True)\n",
    "df.BsmtHalfBath.fillna(int(df['BsmtHalfBath'].mode()), inplace=True)"
   ]
  },
  {
   "cell_type": "code",
   "execution_count": 403,
   "metadata": {},
   "outputs": [
    {
     "data": {
      "text/plain": [
       "['MSZoning',\n",
       " 'Utilities',\n",
       " 'Exterior1st',\n",
       " 'Exterior2nd',\n",
       " 'MasVnrType',\n",
       " 'BsmtQual',\n",
       " 'BsmtCond',\n",
       " 'BsmtExposure',\n",
       " 'BsmtFinType1',\n",
       " 'BsmtFinType2',\n",
       " 'Electrical',\n",
       " 'KitchenQual',\n",
       " 'Functional',\n",
       " 'GarageType',\n",
       " 'GarageFinish',\n",
       " 'GarageQual',\n",
       " 'GarageCond',\n",
       " 'SaleType']"
      ]
     },
     "execution_count": 403,
     "metadata": {},
     "output_type": "execute_result"
    }
   ],
   "source": [
    "index = []\n",
    "ind = []\n",
    "for i in range(0,len(list(df))):\n",
    "    if sum(df.iloc[:,i].isnull())>0:\n",
    "        index.append(list(df)[i])\n",
    "        ind.append(i)\n",
    "\n",
    "index"
   ]
  },
  {
   "cell_type": "code",
   "execution_count": 404,
   "metadata": {},
   "outputs": [],
   "source": [
    "for i in ind:\n",
    "    df.iloc[:,i].fillna('Missing', inplace=True)"
   ]
  },
  {
   "cell_type": "code",
   "execution_count": 405,
   "metadata": {},
   "outputs": [
    {
     "data": {
      "text/plain": [
       "0"
      ]
     },
     "execution_count": 405,
     "metadata": {},
     "output_type": "execute_result"
    }
   ],
   "source": [
    "sum(df.isnull().sum())"
   ]
  },
  {
   "cell_type": "markdown",
   "metadata": {},
   "source": [
    "## b) Feature Selection\n"
   ]
  },
  {
   "cell_type": "code",
   "execution_count": 406,
   "metadata": {
    "collapsed": true
   },
   "outputs": [],
   "source": [
    "# Define big house\n",
    "df['big_house'] = ((df.LotFrontage >= 100) & (df.LotArea >= 8000)).astype(int)"
   ]
  },
  {
   "cell_type": "code",
   "execution_count": 407,
   "metadata": {},
   "outputs": [
    {
     "data": {
      "text/plain": [
       "0.06748886605001712"
      ]
     },
     "execution_count": 407,
     "metadata": {},
     "output_type": "execute_result"
    }
   ],
   "source": [
    "# Display percent of big houses\n",
    "df.big_house.mean()"
   ]
  },
  {
   "cell_type": "code",
   "execution_count": 408,
   "metadata": {},
   "outputs": [],
   "source": [
    "# Create indicator feature for year built between 2007 and 2009, inclusive\n",
    "df['during_recession'] = ((df.YearBuilt >= 2007) & (df.YearBuilt <= 2009)).astype(int)"
   ]
  },
  {
   "cell_type": "code",
   "execution_count": 409,
   "metadata": {},
   "outputs": [
    {
     "data": {
      "text/plain": [
       "0.06269270298047276"
      ]
     },
     "execution_count": 409,
     "metadata": {},
     "output_type": "execute_result"
    }
   ],
   "source": [
    "# Display percent of during recession\n",
    "df.during_recession.mean()"
   ]
  },
  {
   "cell_type": "code",
   "execution_count": 410,
   "metadata": {},
   "outputs": [],
   "source": [
    "# Create a property age feature\n",
    "df['property_age'] = df.YearRemodAdd - df.YearBuilt"
   ]
  },
  {
   "cell_type": "markdown",
   "metadata": {},
   "source": [
    "## c) Data Transforms\n"
   ]
  },
  {
   "cell_type": "code",
   "execution_count": 411,
   "metadata": {},
   "outputs": [
    {
     "data": {
      "text/html": [
       "<div>\n",
       "<style>\n",
       "    .dataframe thead tr:only-child th {\n",
       "        text-align: right;\n",
       "    }\n",
       "\n",
       "    .dataframe thead th {\n",
       "        text-align: left;\n",
       "    }\n",
       "\n",
       "    .dataframe tbody tr th {\n",
       "        vertical-align: top;\n",
       "    }\n",
       "</style>\n",
       "<table border=\"1\" class=\"dataframe\">\n",
       "  <thead>\n",
       "    <tr style=\"text-align: right;\">\n",
       "      <th></th>\n",
       "      <th>MSZoning</th>\n",
       "      <th>Street</th>\n",
       "      <th>LotShape</th>\n",
       "      <th>LandContour</th>\n",
       "      <th>Utilities</th>\n",
       "      <th>LotConfig</th>\n",
       "      <th>LandSlope</th>\n",
       "      <th>Neighborhood</th>\n",
       "      <th>Condition1</th>\n",
       "      <th>Condition2</th>\n",
       "      <th>BldgType</th>\n",
       "      <th>HouseStyle</th>\n",
       "      <th>RoofStyle</th>\n",
       "      <th>RoofMatl</th>\n",
       "      <th>Exterior1st</th>\n",
       "      <th>Exterior2nd</th>\n",
       "      <th>MasVnrType</th>\n",
       "      <th>ExterQual</th>\n",
       "      <th>ExterCond</th>\n",
       "      <th>Foundation</th>\n",
       "      <th>BsmtQual</th>\n",
       "      <th>BsmtCond</th>\n",
       "      <th>BsmtExposure</th>\n",
       "      <th>BsmtFinType1</th>\n",
       "      <th>BsmtFinType2</th>\n",
       "      <th>Heating</th>\n",
       "      <th>HeatingQC</th>\n",
       "      <th>CentralAir</th>\n",
       "      <th>Electrical</th>\n",
       "      <th>KitchenQual</th>\n",
       "      <th>Functional</th>\n",
       "      <th>GarageType</th>\n",
       "      <th>GarageFinish</th>\n",
       "      <th>GarageQual</th>\n",
       "      <th>GarageCond</th>\n",
       "      <th>PavedDrive</th>\n",
       "      <th>SaleType</th>\n",
       "      <th>SaleCondition</th>\n",
       "    </tr>\n",
       "  </thead>\n",
       "  <tbody>\n",
       "    <tr>\n",
       "      <th>count</th>\n",
       "      <td>2919</td>\n",
       "      <td>2919</td>\n",
       "      <td>2919</td>\n",
       "      <td>2919</td>\n",
       "      <td>2919</td>\n",
       "      <td>2919</td>\n",
       "      <td>2919</td>\n",
       "      <td>2919</td>\n",
       "      <td>2919</td>\n",
       "      <td>2919</td>\n",
       "      <td>2919</td>\n",
       "      <td>2919</td>\n",
       "      <td>2919</td>\n",
       "      <td>2919</td>\n",
       "      <td>2919</td>\n",
       "      <td>2919</td>\n",
       "      <td>2919</td>\n",
       "      <td>2919</td>\n",
       "      <td>2919</td>\n",
       "      <td>2919</td>\n",
       "      <td>2919</td>\n",
       "      <td>2919</td>\n",
       "      <td>2919</td>\n",
       "      <td>2919</td>\n",
       "      <td>2919</td>\n",
       "      <td>2919</td>\n",
       "      <td>2919</td>\n",
       "      <td>2919</td>\n",
       "      <td>2919</td>\n",
       "      <td>2919</td>\n",
       "      <td>2919</td>\n",
       "      <td>2919</td>\n",
       "      <td>2919</td>\n",
       "      <td>2919</td>\n",
       "      <td>2919</td>\n",
       "      <td>2919</td>\n",
       "      <td>2919</td>\n",
       "      <td>2919</td>\n",
       "    </tr>\n",
       "    <tr>\n",
       "      <th>unique</th>\n",
       "      <td>6</td>\n",
       "      <td>2</td>\n",
       "      <td>4</td>\n",
       "      <td>4</td>\n",
       "      <td>3</td>\n",
       "      <td>5</td>\n",
       "      <td>3</td>\n",
       "      <td>25</td>\n",
       "      <td>9</td>\n",
       "      <td>8</td>\n",
       "      <td>5</td>\n",
       "      <td>8</td>\n",
       "      <td>6</td>\n",
       "      <td>8</td>\n",
       "      <td>16</td>\n",
       "      <td>17</td>\n",
       "      <td>5</td>\n",
       "      <td>4</td>\n",
       "      <td>5</td>\n",
       "      <td>6</td>\n",
       "      <td>5</td>\n",
       "      <td>5</td>\n",
       "      <td>5</td>\n",
       "      <td>7</td>\n",
       "      <td>7</td>\n",
       "      <td>6</td>\n",
       "      <td>5</td>\n",
       "      <td>2</td>\n",
       "      <td>6</td>\n",
       "      <td>5</td>\n",
       "      <td>8</td>\n",
       "      <td>7</td>\n",
       "      <td>4</td>\n",
       "      <td>6</td>\n",
       "      <td>6</td>\n",
       "      <td>3</td>\n",
       "      <td>10</td>\n",
       "      <td>6</td>\n",
       "    </tr>\n",
       "    <tr>\n",
       "      <th>top</th>\n",
       "      <td>RL</td>\n",
       "      <td>Pave</td>\n",
       "      <td>Reg</td>\n",
       "      <td>Lvl</td>\n",
       "      <td>AllPub</td>\n",
       "      <td>Inside</td>\n",
       "      <td>Gtl</td>\n",
       "      <td>NAmes</td>\n",
       "      <td>Norm</td>\n",
       "      <td>Norm</td>\n",
       "      <td>1Fam</td>\n",
       "      <td>1Story</td>\n",
       "      <td>Gable</td>\n",
       "      <td>CompShg</td>\n",
       "      <td>VinylSd</td>\n",
       "      <td>VinylSd</td>\n",
       "      <td>None</td>\n",
       "      <td>TA</td>\n",
       "      <td>TA</td>\n",
       "      <td>PConc</td>\n",
       "      <td>TA</td>\n",
       "      <td>TA</td>\n",
       "      <td>No</td>\n",
       "      <td>Unf</td>\n",
       "      <td>Unf</td>\n",
       "      <td>GasA</td>\n",
       "      <td>Ex</td>\n",
       "      <td>Y</td>\n",
       "      <td>SBrkr</td>\n",
       "      <td>TA</td>\n",
       "      <td>Typ</td>\n",
       "      <td>Attchd</td>\n",
       "      <td>Unf</td>\n",
       "      <td>TA</td>\n",
       "      <td>TA</td>\n",
       "      <td>Y</td>\n",
       "      <td>WD</td>\n",
       "      <td>Normal</td>\n",
       "    </tr>\n",
       "    <tr>\n",
       "      <th>freq</th>\n",
       "      <td>2265</td>\n",
       "      <td>2907</td>\n",
       "      <td>1859</td>\n",
       "      <td>2622</td>\n",
       "      <td>2916</td>\n",
       "      <td>2133</td>\n",
       "      <td>2778</td>\n",
       "      <td>443</td>\n",
       "      <td>2511</td>\n",
       "      <td>2889</td>\n",
       "      <td>2425</td>\n",
       "      <td>1471</td>\n",
       "      <td>2310</td>\n",
       "      <td>2876</td>\n",
       "      <td>1025</td>\n",
       "      <td>1014</td>\n",
       "      <td>1742</td>\n",
       "      <td>1798</td>\n",
       "      <td>2538</td>\n",
       "      <td>1308</td>\n",
       "      <td>1283</td>\n",
       "      <td>2606</td>\n",
       "      <td>1904</td>\n",
       "      <td>851</td>\n",
       "      <td>2493</td>\n",
       "      <td>2874</td>\n",
       "      <td>1493</td>\n",
       "      <td>2723</td>\n",
       "      <td>2671</td>\n",
       "      <td>1492</td>\n",
       "      <td>2717</td>\n",
       "      <td>1723</td>\n",
       "      <td>1230</td>\n",
       "      <td>2604</td>\n",
       "      <td>2654</td>\n",
       "      <td>2641</td>\n",
       "      <td>2525</td>\n",
       "      <td>2402</td>\n",
       "    </tr>\n",
       "  </tbody>\n",
       "</table>\n",
       "</div>"
      ],
      "text/plain": [
       "       MSZoning Street LotShape LandContour Utilities LotConfig LandSlope  \\\n",
       "count      2919   2919     2919        2919      2919      2919      2919   \n",
       "unique        6      2        4           4         3         5         3   \n",
       "top          RL   Pave      Reg         Lvl    AllPub    Inside       Gtl   \n",
       "freq       2265   2907     1859        2622      2916      2133      2778   \n",
       "\n",
       "       Neighborhood Condition1 Condition2 BldgType HouseStyle RoofStyle  \\\n",
       "count          2919       2919       2919     2919       2919      2919   \n",
       "unique           25          9          8        5          8         6   \n",
       "top           NAmes       Norm       Norm     1Fam     1Story     Gable   \n",
       "freq            443       2511       2889     2425       1471      2310   \n",
       "\n",
       "       RoofMatl Exterior1st Exterior2nd MasVnrType ExterQual ExterCond  \\\n",
       "count      2919        2919        2919       2919      2919      2919   \n",
       "unique        8          16          17          5         4         5   \n",
       "top     CompShg     VinylSd     VinylSd       None        TA        TA   \n",
       "freq       2876        1025        1014       1742      1798      2538   \n",
       "\n",
       "       Foundation BsmtQual BsmtCond BsmtExposure BsmtFinType1 BsmtFinType2  \\\n",
       "count        2919     2919     2919         2919         2919         2919   \n",
       "unique          6        5        5            5            7            7   \n",
       "top         PConc       TA       TA           No          Unf          Unf   \n",
       "freq         1308     1283     2606         1904          851         2493   \n",
       "\n",
       "       Heating HeatingQC CentralAir Electrical KitchenQual Functional  \\\n",
       "count     2919      2919       2919       2919        2919       2919   \n",
       "unique       6         5          2          6           5          8   \n",
       "top       GasA        Ex          Y      SBrkr          TA        Typ   \n",
       "freq      2874      1493       2723       2671        1492       2717   \n",
       "\n",
       "       GarageType GarageFinish GarageQual GarageCond PavedDrive SaleType  \\\n",
       "count        2919         2919       2919       2919       2919     2919   \n",
       "unique          7            4          6          6          3       10   \n",
       "top        Attchd          Unf         TA         TA          Y       WD   \n",
       "freq         1723         1230       2604       2654       2641     2525   \n",
       "\n",
       "       SaleCondition  \n",
       "count           2919  \n",
       "unique             6  \n",
       "top           Normal  \n",
       "freq            2402  "
      ]
     },
     "execution_count": 411,
     "metadata": {},
     "output_type": "execute_result"
    }
   ],
   "source": [
    "df.describe(include=['object'])"
   ]
  },
  {
   "cell_type": "code",
   "execution_count": 412,
   "metadata": {},
   "outputs": [],
   "source": [
    "id = df.Id\n",
    "df = df.drop('Id',axis = 1)"
   ]
  },
  {
   "cell_type": "code",
   "execution_count": 413,
   "metadata": {},
   "outputs": [
    {
     "data": {
      "text/plain": [
       "['MSSubClass',\n",
       " 'Utilities',\n",
       " 'LotConfig',\n",
       " 'LandSlope',\n",
       " 'Condition1',\n",
       " 'Condition2',\n",
       " 'BldgType',\n",
       " 'HouseStyle',\n",
       " 'OverallQual',\n",
       " 'RoofStyle',\n",
       " 'MasVnrType',\n",
       " 'MasVnrArea',\n",
       " 'ExterQual',\n",
       " 'BsmtQual',\n",
       " 'BsmtExposure',\n",
       " 'BsmtFinType1',\n",
       " 'BsmtFinType2',\n",
       " 'BsmtFinSF2',\n",
       " 'TotalBsmtSF',\n",
       " 'Heating']"
      ]
     },
     "execution_count": 413,
     "metadata": {},
     "output_type": "execute_result"
    }
   ],
   "source": [
    "index2 = []\n",
    "ind2 = []\n",
    "for i in range(0,len(df.dtypes[df.dtypes == 'object'].index)):\n",
    "    if df.describe(include=['object']).iloc[1,i] > 5:\n",
    "        index2.append(list(df)[i])\n",
    "        ind2.append(i)\n",
    "\n",
    "index2"
   ]
  },
  {
   "cell_type": "markdown",
   "metadata": {},
   "source": [
    "## Here is the list we have to deal with."
   ]
  },
  {
   "cell_type": "markdown",
   "metadata": {},
   "source": [
    "## Group sparse classes"
   ]
  },
  {
   "cell_type": "code",
   "execution_count": 414,
   "metadata": {},
   "outputs": [
    {
     "name": "stdout",
     "output_type": "stream",
     "text": [
      "Utilities\n",
      "AllPub     2916\n",
      "Missing       2\n",
      "NoSeWa        1\n",
      "dtype: int64\n",
      " \n",
      "LotConfig\n",
      "Corner      511\n",
      "CulDSac     176\n",
      "FR2          85\n",
      "FR3          14\n",
      "Inside     2133\n",
      "dtype: int64\n",
      " \n",
      "LandSlope\n",
      "Gtl    2778\n",
      "Mod     125\n",
      "Sev      16\n",
      "dtype: int64\n",
      " \n",
      "Condition1\n",
      "Artery      92\n",
      "Feedr      164\n",
      "Norm      2511\n",
      "PosA        20\n",
      "PosN        39\n",
      "RRAe        28\n",
      "RRAn        50\n",
      "RRNe         6\n",
      "RRNn         9\n",
      "dtype: int64\n",
      " \n",
      "Condition2\n",
      "Artery       5\n",
      "Feedr       13\n",
      "Norm      2889\n",
      "PosA         4\n",
      "PosN         4\n",
      "RRAe         1\n",
      "RRAn         1\n",
      "RRNn         2\n",
      "dtype: int64\n",
      " \n",
      "BldgType\n",
      "1Fam      2425\n",
      "2fmCon      62\n",
      "Duplex     109\n",
      "Twnhs       96\n",
      "TwnhsE     227\n",
      "dtype: int64\n",
      " \n",
      "HouseStyle\n",
      "1.5Fin     314\n",
      "1.5Unf      19\n",
      "1Story    1471\n",
      "2.5Fin       8\n",
      "2.5Unf      24\n",
      "2Story     872\n",
      "SFoyer      83\n",
      "SLvl       128\n",
      "dtype: int64\n",
      " \n",
      "OverallQual\n",
      "1       4\n",
      "2      13\n",
      "3      40\n",
      "4     226\n",
      "5     825\n",
      "6     731\n",
      "7     600\n",
      "8     342\n",
      "9     107\n",
      "10     31\n",
      "dtype: int64\n",
      " \n",
      "RoofStyle\n",
      "Flat         20\n",
      "Gable      2310\n",
      "Gambrel      22\n",
      "Hip         551\n",
      "Mansard      11\n",
      "Shed          5\n",
      "dtype: int64\n",
      " \n",
      "MasVnrType\n",
      "BrkCmn       25\n",
      "BrkFace     879\n",
      "Missing      24\n",
      "None       1742\n",
      "Stone       249\n",
      "dtype: int64\n",
      " \n",
      "MasVnrArea\n",
      "0.0       1738\n",
      "1.0          3\n",
      "3.0          1\n",
      "11.0         1\n",
      "14.0         4\n",
      "16.0        11\n",
      "18.0         3\n",
      "20.0         4\n",
      "22.0         2\n",
      "23.0         4\n",
      "24.0         2\n",
      "27.0         1\n",
      "28.0         2\n",
      "30.0         4\n",
      "31.0         1\n",
      "32.0         4\n",
      "34.0         1\n",
      "36.0         2\n",
      "38.0         2\n",
      "39.0         1\n",
      "40.0         8\n",
      "41.0         3\n",
      "42.0         3\n",
      "44.0         7\n",
      "45.0         3\n",
      "46.0         1\n",
      "47.0         1\n",
      "48.0         1\n",
      "50.0         7\n",
      "51.0         3\n",
      "          ... \n",
      "768.0        1\n",
      "771.0        1\n",
      "772.0        1\n",
      "788.0        1\n",
      "796.0        1\n",
      "816.0        1\n",
      "860.0        1\n",
      "870.0        1\n",
      "877.0        1\n",
      "886.0        1\n",
      "894.0        1\n",
      "902.0        1\n",
      "921.0        1\n",
      "922.0        1\n",
      "945.0        1\n",
      "970.0        1\n",
      "975.0        1\n",
      "1031.0       1\n",
      "1047.0       1\n",
      "1050.0       1\n",
      "1095.0       1\n",
      "1110.0       1\n",
      "1115.0       1\n",
      "1129.0       1\n",
      "1159.0       1\n",
      "1170.0       1\n",
      "1224.0       2\n",
      "1290.0       1\n",
      "1378.0       1\n",
      "1600.0       1\n",
      "Length: 445, dtype: int64\n",
      " \n",
      "ExterQual\n",
      "Ex     107\n",
      "Fa      35\n",
      "Gd     979\n",
      "TA    1798\n",
      "dtype: int64\n",
      " \n",
      "BsmtQual\n",
      "Ex          258\n",
      "Fa           88\n",
      "Gd         1209\n",
      "Missing      81\n",
      "TA         1283\n",
      "dtype: int64\n",
      " \n",
      "BsmtExposure\n",
      "Av          418\n",
      "Gd          276\n",
      "Missing      82\n",
      "Mn          239\n",
      "No         1904\n",
      "dtype: int64\n",
      " \n",
      "BsmtFinType1\n",
      "ALQ        429\n",
      "BLQ        269\n",
      "GLQ        849\n",
      "LwQ        154\n",
      "Missing     79\n",
      "Rec        288\n",
      "Unf        851\n",
      "dtype: int64\n",
      " \n",
      "BsmtFinType2\n",
      "ALQ          52\n",
      "BLQ          68\n",
      "GLQ          34\n",
      "LwQ          87\n",
      "Missing      80\n",
      "Rec         105\n",
      "Unf        2493\n",
      "dtype: int64\n",
      " \n",
      "BsmtFinSF2\n",
      "0.000000       2571\n",
      "6.000000          1\n",
      "12.000000         1\n",
      "28.000000         1\n",
      "32.000000         1\n",
      "35.000000         1\n",
      "38.000000         1\n",
      "40.000000         2\n",
      "41.000000         2\n",
      "42.000000         2\n",
      "46.000000         1\n",
      "48.000000         1\n",
      "49.582248         1\n",
      "52.000000         1\n",
      "60.000000         2\n",
      "63.000000         1\n",
      "64.000000         2\n",
      "66.000000         1\n",
      "68.000000         2\n",
      "72.000000         2\n",
      "76.000000         1\n",
      "78.000000         1\n",
      "80.000000         2\n",
      "81.000000         1\n",
      "92.000000         1\n",
      "93.000000         2\n",
      "95.000000         1\n",
      "96.000000         2\n",
      "102.000000        1\n",
      "105.000000        2\n",
      "               ... \n",
      "875.000000        1\n",
      "884.000000        1\n",
      "891.000000        1\n",
      "904.000000        1\n",
      "906.000000        1\n",
      "912.000000        1\n",
      "915.000000        1\n",
      "955.000000        1\n",
      "956.000000        1\n",
      "972.000000        1\n",
      "981.000000        1\n",
      "982.000000        1\n",
      "1020.000000       1\n",
      "1029.000000       1\n",
      "1031.000000       1\n",
      "1037.000000       1\n",
      "1039.000000       1\n",
      "1057.000000       1\n",
      "1061.000000       1\n",
      "1063.000000       1\n",
      "1073.000000       1\n",
      "1080.000000       1\n",
      "1083.000000       1\n",
      "1085.000000       1\n",
      "1120.000000       1\n",
      "1127.000000       1\n",
      "1164.000000       1\n",
      "1393.000000       1\n",
      "1474.000000       1\n",
      "1526.000000       1\n",
      "Length: 273, dtype: int64\n",
      " \n",
      "TotalBsmtSF\n",
      "0.0       78\n",
      "105.0      1\n",
      "160.0      1\n",
      "173.0      1\n",
      "190.0      1\n",
      "192.0      1\n",
      "216.0      2\n",
      "240.0      1\n",
      "245.0      1\n",
      "264.0      4\n",
      "270.0      1\n",
      "279.0      1\n",
      "290.0      1\n",
      "297.0      1\n",
      "301.0      1\n",
      "319.0      1\n",
      "346.0      2\n",
      "348.0      1\n",
      "352.0      1\n",
      "356.0      1\n",
      "360.0      1\n",
      "370.0      1\n",
      "372.0      1\n",
      "381.0      1\n",
      "384.0     19\n",
      "385.0      1\n",
      "392.0      2\n",
      "396.0      1\n",
      "405.0      1\n",
      "407.0      1\n",
      "          ..\n",
      "2200.0     1\n",
      "2208.0     1\n",
      "2216.0     1\n",
      "2217.0     1\n",
      "2220.0     1\n",
      "2223.0     1\n",
      "2271.0     1\n",
      "2320.0     1\n",
      "2330.0     1\n",
      "2392.0     1\n",
      "2396.0     1\n",
      "2418.0     1\n",
      "2444.0     1\n",
      "2452.0     1\n",
      "2458.0     1\n",
      "2461.0     1\n",
      "2492.0     1\n",
      "2524.0     1\n",
      "2535.0     1\n",
      "2552.0     1\n",
      "2630.0     1\n",
      "2633.0     1\n",
      "2660.0     1\n",
      "2846.0     1\n",
      "3094.0     1\n",
      "3138.0     1\n",
      "3200.0     1\n",
      "3206.0     1\n",
      "5095.0     1\n",
      "6110.0     1\n",
      "Length: 1059, dtype: int64\n",
      " \n",
      "Heating\n",
      "Floor       1\n",
      "GasA     2874\n",
      "GasW       27\n",
      "Grav        9\n",
      "OthW        2\n",
      "Wall        6\n",
      "dtype: int64\n",
      " \n"
     ]
    }
   ],
   "source": [
    "index2 = index2[1:]\n",
    "for i in index2:\n",
    "    class_counts = df.groupby(i).size()\n",
    "    print(class_counts)\n",
    "    print(' ')"
   ]
  },
  {
   "cell_type": "code",
   "execution_count": 415,
   "metadata": {},
   "outputs": [],
   "source": [
    "# Drop variables with overwhelming numbers\n",
    "df = df.drop(['Utilities','Heating','TotalBsmtSF','BsmtFinSF2'],axis = 1)"
   ]
  },
  {
   "cell_type": "code",
   "execution_count": 417,
   "metadata": {},
   "outputs": [
    {
     "data": {
      "text/plain": [
       "['MSSubClass',\n",
       " 'LandContour',\n",
       " 'LotConfig',\n",
       " 'LandSlope',\n",
       " 'Condition1',\n",
       " 'Condition2',\n",
       " 'BldgType',\n",
       " 'HouseStyle',\n",
       " 'OverallQual',\n",
       " 'RoofStyle',\n",
       " 'MasVnrType',\n",
       " 'MasVnrArea',\n",
       " 'Foundation',\n",
       " 'BsmtCond',\n",
       " 'BsmtExposure',\n",
       " 'BsmtFinSF1',\n",
       " 'BsmtFinType2',\n",
       " 'HeatingQC',\n",
       " 'CentralAir']"
      ]
     },
     "execution_count": 417,
     "metadata": {},
     "output_type": "execute_result"
    }
   ],
   "source": [
    "index2 = []\n",
    "ind2 = []\n",
    "for i in range(0,len(df.dtypes[df.dtypes == 'object'].index)):\n",
    "    if df.describe(include=['object']).iloc[1,i] > 5:\n",
    "        index2.append(list(df)[i])\n",
    "        ind2.append(i)\n",
    "\n",
    "index2"
   ]
  },
  {
   "cell_type": "code",
   "execution_count": 419,
   "metadata": {},
   "outputs": [],
   "source": [
    "for i in index2:\n",
    "    class_counts = df.groupby(i).size()\n",
    "    index = class_counts[class_counts<100].index\n",
    "    for j in index:\n",
    "        df[i].replace(j,'Other',inplace = True)"
   ]
  },
  {
   "cell_type": "markdown",
   "metadata": {},
   "source": [
    "## Encode Dummy Variables"
   ]
  },
  {
   "cell_type": "code",
   "execution_count": 420,
   "metadata": {},
   "outputs": [],
   "source": [
    "# Create new dataframe with dummy features\n",
    "df = pd.get_dummies(df, columns = df.dtypes[df.dtypes == 'object'].index)"
   ]
  },
  {
   "cell_type": "markdown",
   "metadata": {},
   "source": [
    "## Drop Unused variables"
   ]
  },
  {
   "cell_type": "code",
   "execution_count": 421,
   "metadata": {},
   "outputs": [],
   "source": [
    "# Drop 'tx_year' and 'year_built' from the dataset\n",
    "df = df.drop(['YearBuilt', 'LotFrontage'], axis=1)"
   ]
  },
  {
   "cell_type": "code",
   "execution_count": 422,
   "metadata": {},
   "outputs": [
    {
     "data": {
      "text/plain": [
       "(2919, 267)"
      ]
     },
     "execution_count": 422,
     "metadata": {},
     "output_type": "execute_result"
    }
   ],
   "source": [
    "df.shape"
   ]
  },
  {
   "cell_type": "code",
   "execution_count": 425,
   "metadata": {},
   "outputs": [
    {
     "data": {
      "text/plain": [
       "(1460, 267)"
      ]
     },
     "execution_count": 425,
     "metadata": {},
     "output_type": "execute_result"
    }
   ],
   "source": [
    "df1 = df.iloc[:1460,]\n",
    "df1.shape"
   ]
  },
  {
   "cell_type": "code",
   "execution_count": 427,
   "metadata": {},
   "outputs": [
    {
     "data": {
      "text/plain": [
       "(1459, 267)"
      ]
     },
     "execution_count": 427,
     "metadata": {},
     "output_type": "execute_result"
    }
   ],
   "source": [
    "df2 = df.iloc[1460:,]\n",
    "df2.shape"
   ]
  },
  {
   "cell_type": "code",
   "execution_count": 428,
   "metadata": {},
   "outputs": [],
   "source": [
    "# Save analytical base table\n",
    "df1.to_csv('analytic_dataset.csv', index=None)\n",
    "df2.to_csv('analytic_dataset_test.csv', index=None)"
   ]
  }
 ],
 "metadata": {
  "kernelspec": {
   "display_name": "Python 3",
   "language": "python",
   "name": "python3"
  },
  "language_info": {
   "codemirror_mode": {
    "name": "ipython",
    "version": 3
   },
   "file_extension": ".py",
   "mimetype": "text/x-python",
   "name": "python",
   "nbconvert_exporter": "python",
   "pygments_lexer": "ipython3",
   "version": "3.6.3"
  }
 },
 "nbformat": 4,
 "nbformat_minor": 2
}
